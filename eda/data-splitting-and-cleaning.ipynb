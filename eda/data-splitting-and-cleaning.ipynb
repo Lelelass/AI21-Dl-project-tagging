{
 "cells": [
  {
   "cell_type": "markdown",
   "metadata": {},
   "source": [
    "# Data splitting and cleaning"
   ]
  },
  {
   "cell_type": "code",
   "execution_count": 1,
   "metadata": {},
   "outputs": [],
   "source": [
    "import pandas as pd\n",
    "from bs4 import BeautifulSoup\n",
    "from re import findall, sub\n",
    "\n",
    "STACK_OVERFLOW_CODE_BLOCK_REGULAR_EXPRESSION = r\"<pre><code>([\\s\\S]*?)<\\/code><\\/pre>\"\n",
    "\n",
    "\n",
    "def extract_code_blocks_from_body(body):\n",
    "    code_block = findall(STACK_OVERFLOW_CODE_BLOCK_REGULAR_EXPRESSION, body)\n",
    "    code_block = \" \".join(code_block)\n",
    "    if code_block == \"\":\n",
    "        return None\n",
    "    return code_block\n",
    "\n",
    "\n",
    "def remove_code_blocks_from_body(body):\n",
    "    new_body = sub(STACK_OVERFLOW_CODE_BLOCK_REGULAR_EXPRESSION, \"\", body)\n",
    "    return new_body\n",
    "\n",
    "\n",
    "def remove_new_line_symbol(text):\n",
    "    return text.replace(\"\\n\", \" \")\n",
    "\n",
    "\n",
    "def remove_elements_from_list(*, removing_elements, target_list):\n",
    "    return [element for element in target_list if element not in removing_elements]"
   ]
  },
  {
   "cell_type": "code",
   "execution_count": 6,
   "metadata": {},
   "outputs": [
    {
     "data": {
      "text/html": [
       "<div>\n",
       "<style scoped>\n",
       "    .dataframe tbody tr th:only-of-type {\n",
       "        vertical-align: middle;\n",
       "    }\n",
       "\n",
       "    .dataframe tbody tr th {\n",
       "        vertical-align: top;\n",
       "    }\n",
       "\n",
       "    .dataframe thead th {\n",
       "        text-align: right;\n",
       "    }\n",
       "</style>\n",
       "<table border=\"1\" class=\"dataframe\">\n",
       "  <thead>\n",
       "    <tr style=\"text-align: right;\">\n",
       "      <th></th>\n",
       "      <th>title</th>\n",
       "      <th>code</th>\n",
       "      <th>desc</th>\n",
       "      <th>tags</th>\n",
       "    </tr>\n",
       "  </thead>\n",
       "  <tbody>\n",
       "    <tr>\n",
       "      <th>0</th>\n",
       "      <td>SQLStatement.execute() - multiple queries in o...</td>\n",
       "      <td>Create Table tRole (\\n      roleID integer Pri...</td>\n",
       "      <td>I've written a database generation script in S...</td>\n",
       "      <td>[flex, actionscript-3, air]</td>\n",
       "    </tr>\n",
       "  </tbody>\n",
       "</table>\n",
       "</div>"
      ],
      "text/plain": [
       "                                               title  \\\n",
       "0  SQLStatement.execute() - multiple queries in o...   \n",
       "\n",
       "                                                code  \\\n",
       "0  Create Table tRole (\\n      roleID integer Pri...   \n",
       "\n",
       "                                                desc  \\\n",
       "0  I've written a database generation script in S...   \n",
       "\n",
       "                          tags  \n",
       "0  [flex, actionscript-3, air]  "
      ]
     },
     "execution_count": 6,
     "metadata": {},
     "output_type": "execute_result"
    }
   ],
   "source": [
    "questions = pd.read_csv(\"./data/Questions.csv\", usecols=[\"Id\", \"Body\", \"Title\"], encoding=\"ISO-8859-1\").rename(\n",
    "    columns={\"Id\": \"id\", \"Body\": \"body\", \"Title\": \"title\"}\n",
    ")\n",
    "tags = pd.read_csv(\"./data/Tags.csv\", encoding=\"ISO-8859-1\", dtype={\"Tags\": \"string\"}).rename(\n",
    "    columns={\"Id\": \"id\", \"Tag\": \"tag\"}\n",
    ")\n",
    "\n",
    "# Remove all new line characters\n",
    "questions[\"body\"] = questions[\"body\"].apply(lambda body: remove_new_line_symbol(body))\n",
    "\n",
    "\n",
    "# Splitting body into code and desc columns\n",
    "questions[\"code\"] = questions[\"body\"].apply(lambda body: extract_code_blocks_from_body(body)).rename(\"code\")\n",
    "questions[\"desc\"] = questions[\"body\"].apply(lambda body: remove_code_blocks_from_body(body)).rename(\"desc\")\n",
    "\n",
    "\n",
    "# Cleaning desc from html elements\n",
    "questions[\"desc\"] = questions[\"desc\"].apply(lambda body: BeautifulSoup(body).get_text())\n",
    "\n",
    "\n",
    "# Grouping tags and adding them to each question\n",
    "tag_lists = tags.groupby(\"id\")[\"tag\"].apply(lambda tags: [tag for tag in tags]).rename(\"tags\")\n",
    "questions = questions.set_index(\"id\").join(tag_lists).reset_index().drop(columns=[\"body\"])\n",
    "\n",
    "\n",
    "# Finding and throwing away tags that contain less than 50 samples\n",
    "questions[\"tag_counts\"] = questions[\"tags\"].apply(lambda tags: len(tags))\n",
    "tags_with_less_than_50_samples = pd.DataFrame(tags[\"tag\"].value_counts()).query(\"tag < 50\").index\n",
    "rows_that_only_contain_a_tag_that_has_less_than_50_samples = questions.query(\"tag_counts == 1\")[\n",
    "    questions.query(\"tag_counts == 1\").apply(lambda row: row[4][0] in tags_with_less_than_50_samples, axis=1).values\n",
    "].index\n",
    "questions.drop(rows_that_only_contain_a_tag_that_has_less_than_50_samples, inplace=True)\n",
    "questions = questions.drop(columns=[\"tags\", \"tag_counts\", \"id\"]).join(\n",
    "    questions[\"tags\"].apply(\n",
    "        lambda tags: remove_elements_from_list(removing_elements=tags_with_less_than_50_samples, target_list=tags)\n",
    "    )\n",
    ")\n",
    "\n",
    "questions.head(1)"
   ]
  },
  {
   "cell_type": "code",
   "execution_count": 7,
   "metadata": {},
   "outputs": [],
   "source": [
    "questions.to_csv('./data/cleaned_samples.csv')"
   ]
  }
 ],
 "metadata": {
  "interpreter": {
   "hash": "4cf530d6ecc16293226388f1f1bc43324134da3fc406b3063504e4b6cad5f50a"
  },
  "kernelspec": {
   "display_name": "Python 3.9.9 ('AI21-Dl-project-tagging-nzWKF9ff')",
   "language": "python",
   "name": "python3"
  },
  "language_info": {
   "codemirror_mode": {
    "name": "ipython",
    "version": 3
   },
   "file_extension": ".py",
   "mimetype": "text/x-python",
   "name": "python",
   "nbconvert_exporter": "python",
   "pygments_lexer": "ipython3",
   "version": "3.9.9"
  },
  "orig_nbformat": 4
 },
 "nbformat": 4,
 "nbformat_minor": 2
}
