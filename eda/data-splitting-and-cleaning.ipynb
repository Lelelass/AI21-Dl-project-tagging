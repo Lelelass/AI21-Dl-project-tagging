{
 "cells": [
  {
   "cell_type": "markdown",
   "metadata": {},
   "source": [
    "# Data splitting and cleaning"
   ]
  },
  {
   "cell_type": "code",
   "execution_count": 3,
   "metadata": {},
   "outputs": [],
   "source": [
    "import pandas as pd\n",
    "from bs4 import BeautifulSoup\n",
    "from re import findall, sub\n",
    "\n",
    "STACK_OVERFLOW_CODE_BLOCK_RE = r\"<pre><code>([\\s\\S]*?)<\\/code><\\/pre>\"\n",
    "\n",
    "\n",
    "def extract_code_blocks_from_body(body):\n",
    "    code_block = findall(STACK_OVERFLOW_CODE_BLOCK_RE, body)\n",
    "    code_block = \" \".join(code_block)\n",
    "    if code_block == \"\":\n",
    "        return None\n",
    "    return code_block\n",
    "\n",
    "\n",
    "def remove_code_blocks_from_body(body):\n",
    "    new_body = sub(STACK_OVERFLOW_CODE_BLOCK_RE, \"\", body)\n",
    "    return new_body\n",
    "\n",
    "\n",
    "def remove_new_line(text):\n",
    "    return text.replace(\"\\n\", \" \")\n"
   ]
  },
  {
   "cell_type": "markdown",
   "metadata": {},
   "source": [
    "## Data splitting"
   ]
  },
  {
   "cell_type": "code",
   "execution_count": 67,
   "metadata": {},
   "outputs": [],
   "source": [
    "questions_raw = pd.read_csv(\"./data/Questions.csv\", usecols=[\"Id\", \"Body\", \"Title\"], encoding=\"ISO-8859-1\").rename(\n",
    "    columns={\"Id\": \"id\", \"Body\": \"body\", \"Title\": \"title\"}\n",
    ")\n",
    "tags_raw = pd.read_csv(\"./data/Tags.csv\", encoding=\"ISO-8859-1\", dtype={\"Tags\": \"string\"}).rename(\n",
    "    columns={\"Id\": \"id\", \"Tag\": \"tag\"}\n",
    ")"
   ]
  },
  {
   "cell_type": "code",
   "execution_count": 56,
   "metadata": {},
   "outputs": [
    {
     "data": {
      "text/plain": [
       "0    Create Table tRole (\\n      roleID integer Pri...\n",
       "Name: code, dtype: object"
      ]
     },
     "execution_count": 56,
     "metadata": {},
     "output_type": "execute_result"
    }
   ],
   "source": [
    "code_blocks = questions_raw[\"body\"].apply(lambda body: extract_code_blocks_from_body(body)).rename(\"code\")\n",
    "code_blocks.head(1)"
   ]
  },
  {
   "cell_type": "code",
   "execution_count": 55,
   "metadata": {},
   "outputs": [
    {
     "data": {
      "text/plain": [
       "0    <p>I've written a database generation script i...\n",
       "Name: desc, dtype: object"
      ]
     },
     "execution_count": 55,
     "metadata": {},
     "output_type": "execute_result"
    }
   ],
   "source": [
    "body_without_code_blocks = questions_raw[\"body\"].apply(lambda body: remove_code_blocks_from_body(body)).rename(\"desc\")\n",
    "body_without_code_blocks.head(1)"
   ]
  },
  {
   "cell_type": "code",
   "execution_count": 57,
   "metadata": {},
   "outputs": [
    {
     "data": {
      "text/html": [
       "<div>\n",
       "<style scoped>\n",
       "    .dataframe tbody tr th:only-of-type {\n",
       "        vertical-align: middle;\n",
       "    }\n",
       "\n",
       "    .dataframe tbody tr th {\n",
       "        vertical-align: top;\n",
       "    }\n",
       "\n",
       "    .dataframe thead th {\n",
       "        text-align: right;\n",
       "    }\n",
       "</style>\n",
       "<table border=\"1\" class=\"dataframe\">\n",
       "  <thead>\n",
       "    <tr style=\"text-align: right;\">\n",
       "      <th></th>\n",
       "      <th>id</th>\n",
       "      <th>title</th>\n",
       "      <th>desc</th>\n",
       "      <th>code</th>\n",
       "    </tr>\n",
       "  </thead>\n",
       "  <tbody>\n",
       "    <tr>\n",
       "      <th>0</th>\n",
       "      <td>80</td>\n",
       "      <td>SQLStatement.execute() - multiple queries in o...</td>\n",
       "      <td>&lt;p&gt;I've written a database generation script i...</td>\n",
       "      <td>Create Table tRole (\\n      roleID integer Pri...</td>\n",
       "    </tr>\n",
       "  </tbody>\n",
       "</table>\n",
       "</div>"
      ],
      "text/plain": [
       "   id                                              title  \\\n",
       "0  80  SQLStatement.execute() - multiple queries in o...   \n",
       "\n",
       "                                                desc  \\\n",
       "0  <p>I've written a database generation script i...   \n",
       "\n",
       "                                                code  \n",
       "0  Create Table tRole (\\n      roleID integer Pri...  "
      ]
     },
     "execution_count": 57,
     "metadata": {},
     "output_type": "execute_result"
    }
   ],
   "source": [
    "questions_body_split = questions_raw.drop(columns=[\"body\"]).join(body_without_code_blocks).join(code_blocks)\n",
    "questions_body_split.head(1)"
   ]
  },
  {
   "cell_type": "markdown",
   "metadata": {},
   "source": [
    "## Data cleaning"
   ]
  },
  {
   "cell_type": "code",
   "execution_count": 58,
   "metadata": {},
   "outputs": [
    {
     "data": {
      "text/html": [
       "<div>\n",
       "<style scoped>\n",
       "    .dataframe tbody tr th:only-of-type {\n",
       "        vertical-align: middle;\n",
       "    }\n",
       "\n",
       "    .dataframe tbody tr th {\n",
       "        vertical-align: top;\n",
       "    }\n",
       "\n",
       "    .dataframe thead th {\n",
       "        text-align: right;\n",
       "    }\n",
       "</style>\n",
       "<table border=\"1\" class=\"dataframe\">\n",
       "  <thead>\n",
       "    <tr style=\"text-align: right;\">\n",
       "      <th></th>\n",
       "      <th>id</th>\n",
       "      <th>title</th>\n",
       "      <th>code</th>\n",
       "      <th>desc</th>\n",
       "    </tr>\n",
       "  </thead>\n",
       "  <tbody>\n",
       "    <tr>\n",
       "      <th>0</th>\n",
       "      <td>80</td>\n",
       "      <td>SQLStatement.execute() - multiple queries in o...</td>\n",
       "      <td>Create Table tRole (\\n      roleID integer Pri...</td>\n",
       "      <td>I've written a database generation script in S...</td>\n",
       "    </tr>\n",
       "  </tbody>\n",
       "</table>\n",
       "</div>"
      ],
      "text/plain": [
       "   id                                              title  \\\n",
       "0  80  SQLStatement.execute() - multiple queries in o...   \n",
       "\n",
       "                                                code  \\\n",
       "0  Create Table tRole (\\n      roleID integer Pri...   \n",
       "\n",
       "                                                desc  \n",
       "0  I've written a database generation script in S...  "
      ]
     },
     "execution_count": 58,
     "metadata": {},
     "output_type": "execute_result"
    }
   ],
   "source": [
    "questions_cleaned_html = questions_body_split.drop(columns=[\"desc\"]).join(\n",
    "    questions_body_split[\"desc\"].apply(lambda body: BeautifulSoup(body).get_text())\n",
    ")\n",
    "\n",
    "questions_cleaned_html.head(1)"
   ]
  },
  {
   "cell_type": "code",
   "execution_count": 59,
   "metadata": {},
   "outputs": [
    {
     "data": {
      "text/html": [
       "<div>\n",
       "<style scoped>\n",
       "    .dataframe tbody tr th:only-of-type {\n",
       "        vertical-align: middle;\n",
       "    }\n",
       "\n",
       "    .dataframe tbody tr th {\n",
       "        vertical-align: top;\n",
       "    }\n",
       "\n",
       "    .dataframe thead th {\n",
       "        text-align: right;\n",
       "    }\n",
       "</style>\n",
       "<table border=\"1\" class=\"dataframe\">\n",
       "  <thead>\n",
       "    <tr style=\"text-align: right;\">\n",
       "      <th></th>\n",
       "      <th>id</th>\n",
       "      <th>title</th>\n",
       "      <th>code</th>\n",
       "      <th>desc</th>\n",
       "    </tr>\n",
       "  </thead>\n",
       "  <tbody>\n",
       "    <tr>\n",
       "      <th>0</th>\n",
       "      <td>80</td>\n",
       "      <td>SQLStatement.execute() - multiple queries in o...</td>\n",
       "      <td>Create Table tRole (\\n      roleID integer Pri...</td>\n",
       "      <td>I've written a database generation script in S...</td>\n",
       "    </tr>\n",
       "  </tbody>\n",
       "</table>\n",
       "</div>"
      ],
      "text/plain": [
       "   id                                              title  \\\n",
       "0  80  SQLStatement.execute() - multiple queries in o...   \n",
       "\n",
       "                                                code  \\\n",
       "0  Create Table tRole (\\n      roleID integer Pri...   \n",
       "\n",
       "                                                desc  \n",
       "0  I've written a database generation script in S...  "
      ]
     },
     "execution_count": 59,
     "metadata": {},
     "output_type": "execute_result"
    }
   ],
   "source": [
    "questions_cleaned = questions_cleaned_html.drop(columns=[\"desc\"]).join(\n",
    "    questions_cleaned_html[\"desc\"].apply(lambda body: remove_new_line(body))\n",
    ")\n",
    "questions_cleaned.head(1)"
   ]
  },
  {
   "cell_type": "markdown",
   "metadata": {},
   "source": [
    "## Combining tags into a list"
   ]
  },
  {
   "cell_type": "code",
   "execution_count": 72,
   "metadata": {},
   "outputs": [
    {
     "data": {
      "text/plain": [
       "id\n",
       "80    [flex, actionscript-3, air]\n",
       "Name: tags, dtype: object"
      ]
     },
     "execution_count": 72,
     "metadata": {},
     "output_type": "execute_result"
    }
   ],
   "source": [
    "tag_lists = tags_raw.groupby(\"id\")[\"tag\"].apply(lambda tags: [tag for tag in tags]).rename('tags')\n",
    "tag_lists.head(1)"
   ]
  },
  {
   "cell_type": "markdown",
   "metadata": {},
   "source": [
    "## Combining everything into a X_y_data_frame"
   ]
  },
  {
   "cell_type": "code",
   "execution_count": 73,
   "metadata": {},
   "outputs": [
    {
     "data": {
      "text/html": [
       "<div>\n",
       "<style scoped>\n",
       "    .dataframe tbody tr th:only-of-type {\n",
       "        vertical-align: middle;\n",
       "    }\n",
       "\n",
       "    .dataframe tbody tr th {\n",
       "        vertical-align: top;\n",
       "    }\n",
       "\n",
       "    .dataframe thead th {\n",
       "        text-align: right;\n",
       "    }\n",
       "</style>\n",
       "<table border=\"1\" class=\"dataframe\">\n",
       "  <thead>\n",
       "    <tr style=\"text-align: right;\">\n",
       "      <th></th>\n",
       "      <th>title</th>\n",
       "      <th>code</th>\n",
       "      <th>desc</th>\n",
       "      <th>tags</th>\n",
       "    </tr>\n",
       "  </thead>\n",
       "  <tbody>\n",
       "    <tr>\n",
       "      <th>0</th>\n",
       "      <td>SQLStatement.execute() - multiple queries in o...</td>\n",
       "      <td>Create Table tRole (\\n      roleID integer Pri...</td>\n",
       "      <td>I've written a database generation script in S...</td>\n",
       "      <td>[flex, actionscript-3, air]</td>\n",
       "    </tr>\n",
       "    <tr>\n",
       "      <th>1</th>\n",
       "      <td>Good branching and merging tutorials for Torto...</td>\n",
       "      <td>None</td>\n",
       "      <td>Are there any really good tutorials explaining...</td>\n",
       "      <td>[svn, tortoisesvn, branch, branching-and-merging]</td>\n",
       "    </tr>\n",
       "    <tr>\n",
       "      <th>2</th>\n",
       "      <td>ASP.NET Site Maps</td>\n",
       "      <td>None</td>\n",
       "      <td>Has anyone got experience creating SQL-based A...</td>\n",
       "      <td>[sql, asp.net, sitemap]</td>\n",
       "    </tr>\n",
       "    <tr>\n",
       "      <th>3</th>\n",
       "      <td>Function for creating color wheels</td>\n",
       "      <td>None</td>\n",
       "      <td>This is something I've pseudo-solved many time...</td>\n",
       "      <td>[algorithm, language-agnostic, colors, color-s...</td>\n",
       "    </tr>\n",
       "    <tr>\n",
       "      <th>4</th>\n",
       "      <td>Adding scripting functionality to .NET applica...</td>\n",
       "      <td>ICard Cards[current] = new MyGame.CardLibrary....</td>\n",
       "      <td>I have a little game written in C#. It uses a ...</td>\n",
       "      <td>[c#, .net, scripting, compiler-construction]</td>\n",
       "    </tr>\n",
       "    <tr>\n",
       "      <th>...</th>\n",
       "      <td>...</td>\n",
       "      <td>...</td>\n",
       "      <td>...</td>\n",
       "      <td>...</td>\n",
       "    </tr>\n",
       "    <tr>\n",
       "      <th>1264211</th>\n",
       "      <td>URL routing in PHP (MVC)</td>\n",
       "      <td>&amp;lt;IfModule mod_rewrite.c&amp;gt;\\n\\nRewriteEngin...</td>\n",
       "      <td>I am building a custom MVC project and I have ...</td>\n",
       "      <td>[php, .htaccess]</td>\n",
       "    </tr>\n",
       "    <tr>\n",
       "      <th>1264212</th>\n",
       "      <td>Bigquery.Jobs.Insert - Resumable Upload?</td>\n",
       "      <td>AbstractInputStreamContent content = new ByteA...</td>\n",
       "      <td>The API docs show that you should be able to m...</td>\n",
       "      <td>[google-bigquery]</td>\n",
       "    </tr>\n",
       "    <tr>\n",
       "      <th>1264213</th>\n",
       "      <td>Obfuscating code in android studio</td>\n",
       "      <td>buildTypes {\\n    release {\\n        minifyEna...</td>\n",
       "      <td>Under minifyEnabled I changed from false to tr...</td>\n",
       "      <td>[android, android-studio]</td>\n",
       "    </tr>\n",
       "    <tr>\n",
       "      <th>1264214</th>\n",
       "      <td>How to fire function after v-model change?</td>\n",
       "      <td>var articlesVM = new Vue({\\n      el: '#search...</td>\n",
       "      <td>I have input which I use to filter my array of...</td>\n",
       "      <td>[javascript, vue.js]</td>\n",
       "    </tr>\n",
       "    <tr>\n",
       "      <th>1264215</th>\n",
       "      <td>npm run mocha test - files being cached</td>\n",
       "      <td>package.json\\n\"test\": \"cross-env NODE_ENV=test...</td>\n",
       "      <td>I'm running a mocha test and I noticed my chan...</td>\n",
       "      <td>[npm, mocha, babel]</td>\n",
       "    </tr>\n",
       "  </tbody>\n",
       "</table>\n",
       "<p>1264216 rows × 4 columns</p>\n",
       "</div>"
      ],
      "text/plain": [
       "                                                     title  \\\n",
       "0        SQLStatement.execute() - multiple queries in o...   \n",
       "1        Good branching and merging tutorials for Torto...   \n",
       "2                                        ASP.NET Site Maps   \n",
       "3                       Function for creating color wheels   \n",
       "4        Adding scripting functionality to .NET applica...   \n",
       "...                                                    ...   \n",
       "1264211                           URL routing in PHP (MVC)   \n",
       "1264212           Bigquery.Jobs.Insert - Resumable Upload?   \n",
       "1264213                 Obfuscating code in android studio   \n",
       "1264214         How to fire function after v-model change?   \n",
       "1264215            npm run mocha test - files being cached   \n",
       "\n",
       "                                                      code  \\\n",
       "0        Create Table tRole (\\n      roleID integer Pri...   \n",
       "1                                                     None   \n",
       "2                                                     None   \n",
       "3                                                     None   \n",
       "4        ICard Cards[current] = new MyGame.CardLibrary....   \n",
       "...                                                    ...   \n",
       "1264211  &lt;IfModule mod_rewrite.c&gt;\\n\\nRewriteEngin...   \n",
       "1264212  AbstractInputStreamContent content = new ByteA...   \n",
       "1264213  buildTypes {\\n    release {\\n        minifyEna...   \n",
       "1264214  var articlesVM = new Vue({\\n      el: '#search...   \n",
       "1264215  package.json\\n\"test\": \"cross-env NODE_ENV=test...   \n",
       "\n",
       "                                                      desc  \\\n",
       "0        I've written a database generation script in S...   \n",
       "1        Are there any really good tutorials explaining...   \n",
       "2        Has anyone got experience creating SQL-based A...   \n",
       "3        This is something I've pseudo-solved many time...   \n",
       "4        I have a little game written in C#. It uses a ...   \n",
       "...                                                    ...   \n",
       "1264211  I am building a custom MVC project and I have ...   \n",
       "1264212  The API docs show that you should be able to m...   \n",
       "1264213  Under minifyEnabled I changed from false to tr...   \n",
       "1264214  I have input which I use to filter my array of...   \n",
       "1264215  I'm running a mocha test and I noticed my chan...   \n",
       "\n",
       "                                                      tags  \n",
       "0                              [flex, actionscript-3, air]  \n",
       "1        [svn, tortoisesvn, branch, branching-and-merging]  \n",
       "2                                  [sql, asp.net, sitemap]  \n",
       "3        [algorithm, language-agnostic, colors, color-s...  \n",
       "4             [c#, .net, scripting, compiler-construction]  \n",
       "...                                                    ...  \n",
       "1264211                                   [php, .htaccess]  \n",
       "1264212                                  [google-bigquery]  \n",
       "1264213                          [android, android-studio]  \n",
       "1264214                               [javascript, vue.js]  \n",
       "1264215                                [npm, mocha, babel]  \n",
       "\n",
       "[1264216 rows x 4 columns]"
      ]
     },
     "execution_count": 73,
     "metadata": {},
     "output_type": "execute_result"
    }
   ],
   "source": [
    "X_y_data_frame = questions_cleaned.set_index(\"id\").join(tag_lists).reset_index().drop(columns=[\"id\"])\n",
    "X_y_data_frame"
   ]
  },
  {
   "cell_type": "code",
   "execution_count": 74,
   "metadata": {},
   "outputs": [
    {
     "name": "stdout",
     "output_type": "stream",
     "text": [
      "<class 'pandas.core.frame.DataFrame'>\n",
      "RangeIndex: 1264216 entries, 0 to 1264215\n",
      "Data columns (total 4 columns):\n",
      " #   Column  Non-Null Count    Dtype \n",
      "---  ------  --------------    ----- \n",
      " 0   title   1264216 non-null  object\n",
      " 1   code    840834 non-null   object\n",
      " 2   desc    1264216 non-null  object\n",
      " 3   tags    1264216 non-null  object\n",
      "dtypes: object(4)\n",
      "memory usage: 38.6+ MB\n"
     ]
    }
   ],
   "source": [
    "X_y_data_frame.info()"
   ]
  },
  {
   "cell_type": "markdown",
   "metadata": {},
   "source": [
    "## Mutation version"
   ]
  },
  {
   "cell_type": "code",
   "execution_count": 8,
   "metadata": {},
   "outputs": [
    {
     "data": {
      "text/html": [
       "<div>\n",
       "<style scoped>\n",
       "    .dataframe tbody tr th:only-of-type {\n",
       "        vertical-align: middle;\n",
       "    }\n",
       "\n",
       "    .dataframe tbody tr th {\n",
       "        vertical-align: top;\n",
       "    }\n",
       "\n",
       "    .dataframe thead th {\n",
       "        text-align: right;\n",
       "    }\n",
       "</style>\n",
       "<table border=\"1\" class=\"dataframe\">\n",
       "  <thead>\n",
       "    <tr style=\"text-align: right;\">\n",
       "      <th></th>\n",
       "      <th>title</th>\n",
       "      <th>code</th>\n",
       "      <th>desc</th>\n",
       "      <th>tags</th>\n",
       "    </tr>\n",
       "  </thead>\n",
       "  <tbody>\n",
       "    <tr>\n",
       "      <th>0</th>\n",
       "      <td>SQLStatement.execute() - multiple queries in o...</td>\n",
       "      <td>Create Table tRole (\\n      roleID integer Pri...</td>\n",
       "      <td>I've written a database generation script in S...</td>\n",
       "      <td>[flex, actionscript-3, air]</td>\n",
       "    </tr>\n",
       "  </tbody>\n",
       "</table>\n",
       "</div>"
      ],
      "text/plain": [
       "                                               title  \\\n",
       "0  SQLStatement.execute() - multiple queries in o...   \n",
       "\n",
       "                                                code  \\\n",
       "0  Create Table tRole (\\n      roleID integer Pri...   \n",
       "\n",
       "                                                desc  \\\n",
       "0  I've written a database generation script in S...   \n",
       "\n",
       "                          tags  \n",
       "0  [flex, actionscript-3, air]  "
      ]
     },
     "execution_count": 8,
     "metadata": {},
     "output_type": "execute_result"
    }
   ],
   "source": [
    "questions = pd.read_csv(\"./data/Questions.csv\", usecols=[\"Id\", \"Body\", \"Title\"], encoding=\"ISO-8859-1\").rename(\n",
    "    columns={\"Id\": \"id\", \"Body\": \"body\", \"Title\": \"title\"}\n",
    ")\n",
    "tags = pd.read_csv(\"./data/Tags.csv\", encoding=\"ISO-8859-1\", dtype={\"Tags\": \"string\"}).rename(\n",
    "    columns={\"Id\": \"id\", \"Tag\": \"tag\"}\n",
    ")\n",
    "\n",
    "questions[\"code\"] = questions[\"body\"].apply(lambda body: extract_code_blocks_from_body(body)).rename(\"code\")\n",
    "questions[\"desc\"] = questions[\"body\"].apply(lambda body: remove_code_blocks_from_body(body)).rename(\"desc\")\n",
    "questions[\"desc\"] = questions[\"desc\"].apply(lambda body: BeautifulSoup(body).get_text())\n",
    "questions[\"desc\"] = questions[\"desc\"].apply(lambda body: remove_new_line(body))\n",
    "tag_lists = tags.groupby(\"id\")[\"tag\"].apply(lambda tags: [tag for tag in tags]).rename('tags')\n",
    "questions = questions.set_index(\"id\").join(tag_lists).reset_index().drop(columns=[\"id\", \"body\"])\n",
    "questions.head(1)"
   ]
  }
 ],
 "metadata": {
  "interpreter": {
   "hash": "4cf530d6ecc16293226388f1f1bc43324134da3fc406b3063504e4b6cad5f50a"
  },
  "kernelspec": {
   "display_name": "Python 3.9.9 ('AI21-Dl-project-tagging-nzWKF9ff')",
   "language": "python",
   "name": "python3"
  },
  "language_info": {
   "codemirror_mode": {
    "name": "ipython",
    "version": 3
   },
   "file_extension": ".py",
   "mimetype": "text/x-python",
   "name": "python",
   "nbconvert_exporter": "python",
   "pygments_lexer": "ipython3",
   "version": "3.9.9"
  },
  "orig_nbformat": 4
 },
 "nbformat": 4,
 "nbformat_minor": 2
}
