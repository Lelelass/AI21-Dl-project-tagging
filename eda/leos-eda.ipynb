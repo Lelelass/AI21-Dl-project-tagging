{
 "cells": [
  {
   "cell_type": "markdown",
   "metadata": {},
   "source": [
    "## Hello EDA"
   ]
  },
  {
   "cell_type": "code",
   "execution_count": 38,
   "metadata": {},
   "outputs": [],
   "source": [
    "import os\n",
    "import pandas as pd"
   ]
  },
  {
   "cell_type": "code",
   "execution_count": 39,
   "metadata": {},
   "outputs": [
    {
     "data": {
      "text/plain": [
       "['Answers.csv', 'Tags.csv', 'Questions.csv']"
      ]
     },
     "execution_count": 39,
     "metadata": {},
     "output_type": "execute_result"
    }
   ],
   "source": [
    "data_dir = os.path.abspath('../data')\n",
    "filelist = os.listdir(data_dir)\n",
    "filelist"
   ]
  },
  {
   "cell_type": "code",
   "execution_count": 40,
   "metadata": {},
   "outputs": [
    {
     "data": {
      "text/html": [
       "<div>\n",
       "<style scoped>\n",
       "    .dataframe tbody tr th:only-of-type {\n",
       "        vertical-align: middle;\n",
       "    }\n",
       "\n",
       "    .dataframe tbody tr th {\n",
       "        vertical-align: top;\n",
       "    }\n",
       "\n",
       "    .dataframe thead th {\n",
       "        text-align: right;\n",
       "    }\n",
       "</style>\n",
       "<table border=\"1\" class=\"dataframe\">\n",
       "  <thead>\n",
       "    <tr style=\"text-align: right;\">\n",
       "      <th></th>\n",
       "      <th>Id</th>\n",
       "      <th>OwnerUserId</th>\n",
       "      <th>CreationDate</th>\n",
       "      <th>ParentId</th>\n",
       "      <th>Score</th>\n",
       "      <th>Body</th>\n",
       "    </tr>\n",
       "  </thead>\n",
       "  <tbody>\n",
       "    <tr>\n",
       "      <th>0</th>\n",
       "      <td>92</td>\n",
       "      <td>61.0</td>\n",
       "      <td>2008-08-01T14:45:37Z</td>\n",
       "      <td>90</td>\n",
       "      <td>13</td>\n",
       "      <td>&lt;p&gt;&lt;a href=\"http://svnbook.red-bean.com/\"&gt;Vers...</td>\n",
       "    </tr>\n",
       "    <tr>\n",
       "      <th>1</th>\n",
       "      <td>124</td>\n",
       "      <td>26.0</td>\n",
       "      <td>2008-08-01T16:09:47Z</td>\n",
       "      <td>80</td>\n",
       "      <td>12</td>\n",
       "      <td>&lt;p&gt;I wound up using this. It is a kind of a ha...</td>\n",
       "    </tr>\n",
       "    <tr>\n",
       "      <th>2</th>\n",
       "      <td>199</td>\n",
       "      <td>50.0</td>\n",
       "      <td>2008-08-01T19:36:46Z</td>\n",
       "      <td>180</td>\n",
       "      <td>1</td>\n",
       "      <td>&lt;p&gt;I've read somewhere the human eye can't dis...</td>\n",
       "    </tr>\n",
       "    <tr>\n",
       "      <th>3</th>\n",
       "      <td>269</td>\n",
       "      <td>91.0</td>\n",
       "      <td>2008-08-01T23:49:57Z</td>\n",
       "      <td>260</td>\n",
       "      <td>4</td>\n",
       "      <td>&lt;p&gt;Yes, I thought about that, but I soon figur...</td>\n",
       "    </tr>\n",
       "    <tr>\n",
       "      <th>4</th>\n",
       "      <td>307</td>\n",
       "      <td>49.0</td>\n",
       "      <td>2008-08-02T01:49:46Z</td>\n",
       "      <td>260</td>\n",
       "      <td>28</td>\n",
       "      <td>&lt;p&gt;&lt;a href=\"http://www.codeproject.com/Article...</td>\n",
       "    </tr>\n",
       "  </tbody>\n",
       "</table>\n",
       "</div>"
      ],
      "text/plain": [
       "    Id  OwnerUserId          CreationDate  ParentId  Score  \\\n",
       "0   92         61.0  2008-08-01T14:45:37Z        90     13   \n",
       "1  124         26.0  2008-08-01T16:09:47Z        80     12   \n",
       "2  199         50.0  2008-08-01T19:36:46Z       180      1   \n",
       "3  269         91.0  2008-08-01T23:49:57Z       260      4   \n",
       "4  307         49.0  2008-08-02T01:49:46Z       260     28   \n",
       "\n",
       "                                                Body  \n",
       "0  <p><a href=\"http://svnbook.red-bean.com/\">Vers...  \n",
       "1  <p>I wound up using this. It is a kind of a ha...  \n",
       "2  <p>I've read somewhere the human eye can't dis...  \n",
       "3  <p>Yes, I thought about that, but I soon figur...  \n",
       "4  <p><a href=\"http://www.codeproject.com/Article...  "
      ]
     },
     "execution_count": 40,
     "metadata": {},
     "output_type": "execute_result"
    }
   ],
   "source": [
    "answers_df = pd.read_csv(f\"{data_dir}/{filelist[0]}\", encoding='ISO-8859-1')\n",
    "answers_df.head()"
   ]
  },
  {
   "cell_type": "code",
   "execution_count": 55,
   "metadata": {},
   "outputs": [
    {
     "name": "stdout",
     "output_type": "stream",
     "text": [
      "(0, '<p><a href=\"http://svnbook.red-bean.com/\">Version Control with Subversion</a></p>\\r\\n\\r\\n<p>A very good resource for source control in general. Not really TortoiseSVN specific, though.</p>')\n",
      "(10748, '<p>You can also try <em><a href=\"http://www.codeproject.com/KB/work/XTortoiseSVN.aspx\" rel=\"nofollow\">Version Control for the Standalone Programmer - Part 1</a></em> or perhaps <em><a href=\"http://www.kenegozi.com/Blog/2007/07/30/merging-with-tortoisesvn.aspx\" rel=\"nofollow\">Merging with TortoiseSVN</a></em>.</p>\\n')\n",
      "(85572, '<p>My easy click-by-click instructions (<strong>specific to TortoiseSVN</strong>) are in Stack&nbsp;Overflow question <em><a href=\"http://stackoverflow.com/questions/1461922\">What is the simplest way to do branching and merging using TortoiseSVN?</a></em>.</p>\\n')\n"
     ]
    },
    {
     "data": {
      "text/plain": [
       "list"
      ]
     },
     "execution_count": 55,
     "metadata": {},
     "output_type": "execute_result"
    }
   ],
   "source": [
    "def display_answers_by_QID (dataframe, Parent_ID: int)->tuple:\n",
    "    \"\"\"displays (index, answer) for a given question parent ID on the dataframe\n",
    "       generated on Answers.csv data\"\"\"\n",
    "    answer = dataframe.query(f'ParentId == {Parent_ID}')\n",
    "    for item in answer['Body'].items():\n",
    "        print(item)\n",
    "\n",
    "def extract_answers_by_QID (dataframe, Parent_ID: int)->tuple:\n",
    "    \"\"\"Returns a list of tuples (original index, answer) for a given question parent ID on the dataframe\n",
    "       generated on Answers.csv data\"\"\"\n",
    "    answer_paragraphs = []\n",
    "    answer = dataframe.query(f'ParentId == {Parent_ID}')\n",
    "    for i, item in answer['Body'].items():\n",
    "        answer_paragraphs.append((i, item))\n",
    "    return answer_paragraphs\n",
    "\n",
    "\n",
    "\n",
    "display_answers_by_QID(answers_df, 90)\n",
    "answers_90 = extract_answers_by_QID(answers_df, 90)\n",
    "\n",
    "type(answers_90)"
   ]
  },
  {
   "cell_type": "code",
   "execution_count": 42,
   "metadata": {},
   "outputs": [
    {
     "data": {
      "text/plain": [
       "str"
      ]
     },
     "execution_count": 42,
     "metadata": {},
     "output_type": "execute_result"
    }
   ],
   "source": [
    "type(answers_df.CreationDate[0]) #Date is not encoded as datetime"
   ]
  },
  {
   "cell_type": "markdown",
   "metadata": {},
   "source": [
    "Data has answers from 2016 as latest"
   ]
  },
  {
   "cell_type": "code",
   "execution_count": 43,
   "metadata": {},
   "outputs": [
    {
     "data": {
      "text/html": [
       "<div>\n",
       "<style scoped>\n",
       "    .dataframe tbody tr th:only-of-type {\n",
       "        vertical-align: middle;\n",
       "    }\n",
       "\n",
       "    .dataframe tbody tr th {\n",
       "        vertical-align: top;\n",
       "    }\n",
       "\n",
       "    .dataframe thead th {\n",
       "        text-align: right;\n",
       "    }\n",
       "</style>\n",
       "<table border=\"1\" class=\"dataframe\">\n",
       "  <thead>\n",
       "    <tr style=\"text-align: right;\">\n",
       "      <th></th>\n",
       "      <th>Id</th>\n",
       "      <th>OwnerUserId</th>\n",
       "      <th>CreationDate</th>\n",
       "      <th>ParentId</th>\n",
       "      <th>Score</th>\n",
       "      <th>Body</th>\n",
       "    </tr>\n",
       "  </thead>\n",
       "  <tbody>\n",
       "    <tr>\n",
       "      <th>2014511</th>\n",
       "      <td>40143247</td>\n",
       "      <td>333403.0</td>\n",
       "      <td>2016-10-19T23:42:35Z</td>\n",
       "      <td>40143190</td>\n",
       "      <td>0</td>\n",
       "      <td>&lt;p&gt;Tanks to &lt;a href=\"http://stackoverflow.com/...</td>\n",
       "    </tr>\n",
       "    <tr>\n",
       "      <th>2014512</th>\n",
       "      <td>40143322</td>\n",
       "      <td>642706.0</td>\n",
       "      <td>2016-10-19T23:50:35Z</td>\n",
       "      <td>40137110</td>\n",
       "      <td>1</td>\n",
       "      <td>&lt;h1&gt;tl;dr&lt;/h1&gt;\\n\\n&lt;pre&gt;&lt;code&gt;ZonedDateTime.par...</td>\n",
       "    </tr>\n",
       "    <tr>\n",
       "      <th>2014513</th>\n",
       "      <td>40143336</td>\n",
       "      <td>2239781.0</td>\n",
       "      <td>2016-10-19T23:52:08Z</td>\n",
       "      <td>40141860</td>\n",
       "      <td>0</td>\n",
       "      <td>&lt;p&gt;I came up with a very dirty workaround. Bef...</td>\n",
       "    </tr>\n",
       "    <tr>\n",
       "      <th>2014514</th>\n",
       "      <td>40143349</td>\n",
       "      <td>6934347.0</td>\n",
       "      <td>2016-10-19T23:54:02Z</td>\n",
       "      <td>40077010</td>\n",
       "      <td>0</td>\n",
       "      <td>&lt;p&gt;I solved my own problem defining the follow...</td>\n",
       "    </tr>\n",
       "    <tr>\n",
       "      <th>2014515</th>\n",
       "      <td>40143389</td>\n",
       "      <td>4464432.0</td>\n",
       "      <td>2016-10-19T23:58:58Z</td>\n",
       "      <td>40142910</td>\n",
       "      <td>0</td>\n",
       "      <td>&lt;p&gt;Try add &lt;code&gt;retrun false&lt;/code&gt; in the &lt;c...</td>\n",
       "    </tr>\n",
       "  </tbody>\n",
       "</table>\n",
       "</div>"
      ],
      "text/plain": [
       "               Id  OwnerUserId          CreationDate  ParentId  Score  \\\n",
       "2014511  40143247     333403.0  2016-10-19T23:42:35Z  40143190      0   \n",
       "2014512  40143322     642706.0  2016-10-19T23:50:35Z  40137110      1   \n",
       "2014513  40143336    2239781.0  2016-10-19T23:52:08Z  40141860      0   \n",
       "2014514  40143349    6934347.0  2016-10-19T23:54:02Z  40077010      0   \n",
       "2014515  40143389    4464432.0  2016-10-19T23:58:58Z  40142910      0   \n",
       "\n",
       "                                                      Body  \n",
       "2014511  <p>Tanks to <a href=\"http://stackoverflow.com/...  \n",
       "2014512  <h1>tl;dr</h1>\\n\\n<pre><code>ZonedDateTime.par...  \n",
       "2014513  <p>I came up with a very dirty workaround. Bef...  \n",
       "2014514  <p>I solved my own problem defining the follow...  \n",
       "2014515  <p>Try add <code>retrun false</code> in the <c...  "
      ]
     },
     "execution_count": 43,
     "metadata": {},
     "output_type": "execute_result"
    }
   ],
   "source": [
    "answers_df.tail() #As answers are by default organized by date, oldest first, I'm looking at dataframe tail to see the most recent answers"
   ]
  },
  {
   "cell_type": "code",
   "execution_count": 57,
   "metadata": {},
   "outputs": [
    {
     "name": "stdout",
     "output_type": "stream",
     "text": [
      "(2014513, '<p>I came up with a very dirty workaround. Before bootstraping the module I add the provider directly to the annotations of the class using the Reflect API:</p>\\n\\n<pre><code>import \"reflect-metadata\";\\nimport { MySecondRootModule } from \"MySecondRootModule\";\\nimport { ServiceTwo } from \"ServiceTwo\";\\n\\nexport class MySecondRootApplication\\n{\\n    constructor()\\n    {\\n        let serviceTwo = new ServiceTwo(42);\\n        let annotations: Array&lt;any&gt; = (Reflect as any).getMetadata(\"annotations\", MySecondRootModule);      \\n\\n        if (annotations[0].providers != undefined)\\n        {\\n            annotations[0].providers.push({ provide: ServiceTwo, useValue: serviceTwo });\\n        }\\n        else\\n        {\\n            annotations[0].providers = [{ provide: ServiceTwo, useValue: serviceTwo }];\\n        }\\n\\n        (Reflect as any).defineMetadata(\"annotations\", annotations, type);\\n\\n        // Perform what ever else needs to be done\\n\\n        platformBrowserDynamic(MySecondRootModule);\\n    }\\n}\\n</code></pre>\\n\\n<p>I know, it\\'s bad. But it works. By the way: Using this method also provides the ability to alter the templateUrl, for example if you want to use an ASP.NET MVC partial view result.</p>\\n')\n"
     ]
    }
   ],
   "source": [
    "display_answers_by_QID(answers_df, 40141860)"
   ]
  },
  {
   "cell_type": "markdown",
   "metadata": {},
   "source": [
    "Seems that more recent questions on StackOverflow allow HMTL \n",
    "\n",
    "```html\n",
    "<code></code>\n",
    "```\n",
    "\n",
    "When did code snippet appear on StackOverflow ?"
   ]
  },
  {
   "cell_type": "markdown",
   "metadata": {},
   "source": []
  },
  {
   "cell_type": "markdown",
   "metadata": {},
   "source": [
    "I will try to code so I can know when code snippet first appears"
   ]
  },
  {
   "cell_type": "code",
   "execution_count": 70,
   "metadata": {},
   "outputs": [
    {
     "data": {
      "text/plain": [
       "True"
      ]
     },
     "execution_count": 70,
     "metadata": {},
     "output_type": "execute_result"
    }
   ],
   "source": [
    "import re\n",
    "\n",
    "match_html = '<code>'\n",
    "\n",
    "answers_40142910 = extract_answers_by_QID(answers_df, 40141860)\n",
    "\n",
    "def is_string_in_answer_corpus(search_string:str, answers:tuple)-> bool:\n",
    "    for _, answer in enumerate(answers):\n",
    "        matches =[]\n",
    "        matches.append(re.search(search_string, answer[1]))\n",
    "        if len(matches) > 0:\n",
    "            return True\n",
    "        else:\n",
    "            return False\n",
    "\n",
    "is_string_in_answer_corpus(match_html, answers_40142910)\n"
   ]
  }
 ],
 "metadata": {
  "interpreter": {
   "hash": "6ccaba203e15935ffa21eeeadac7060d8b2ba11fc48016a2de02ffb66ed45c51"
  },
  "kernelspec": {
   "display_name": "Python 3.9.12 ('tag_projekt')",
   "language": "python",
   "name": "python3"
  },
  "language_info": {
   "codemirror_mode": {
    "name": "ipython",
    "version": 3
   },
   "file_extension": ".py",
   "mimetype": "text/x-python",
   "name": "python",
   "nbconvert_exporter": "python",
   "pygments_lexer": "ipython3",
   "version": "3.9.12"
  },
  "orig_nbformat": 4
 },
 "nbformat": 4,
 "nbformat_minor": 2
}
